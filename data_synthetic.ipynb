{
 "cells": [
  {
   "cell_type": "markdown",
   "metadata": {},
   "source": [
    "## Synthetic Image Generation\n",
    "Based on Method 1 - COCO Annotations"
   ]
  },
  {
   "cell_type": "code",
   "execution_count": 1,
   "metadata": {},
   "outputs": [],
   "source": [
    "import os\n",
    "import numpy as np\n",
    "import cv2\n",
    "import tensorflow as tf\n",
    "from PIL import Image, ImageOps\n",
    "import skimage.io as io\n",
    "import skimage.transform as transform\n",
    "from skimage import measure,draw,data\n",
    "import matplotlib\n",
    "import matplotlib.pyplot as plt\n",
    "from matplotlib.patches import Rectangle\n",
    "from pycocotools.coco import COCO\n",
    "import pycocotools.mask as maskutil\n",
    "from itertools import groupby\n",
    "from imantics import Polygons, Mask\n",
    "from shapely.geometry import Polygon, MultiPolygon\n",
    "import json\n",
    "import random\n",
    "\n",
    "%matplotlib inline\n",
    "matplotlib.use('Agg')"
   ]
  },
  {
   "cell_type": "code",
   "execution_count": 2,
   "metadata": {},
   "outputs": [],
   "source": [
    "def foregroundAug(foreground):\n",
    "    \n",
    "    angle = np.random.randint(-10,10)*(np.pi/180.0) # Convert to radians\n",
    "    zoom = np.random.random()*0.4 + 0.8             # Scale in range [0.8,1.2)\n",
    "    \n",
    "    t_x = np.random.randint(0, int(foreground.shape[1]/3))\n",
    "    t_y = np.random.randint(0, int(foreground.shape[0]/3))\n",
    "\n",
    "    tform = transform.AffineTransform(scale=(zoom,zoom),\n",
    "                                rotation=angle,\n",
    "                                translation=(t_x, t_y))\n",
    "    foreground = transform.warp(foreground, tform.inverse)\n",
    "\n",
    "    # Random horizontal flip with 0.5 probability\n",
    "    if(np.random.randint(0,100)>=50):\n",
    "        foreground = foreground[:, ::-1]\n",
    "        \n",
    "    return foreground"
   ]
  },
  {
   "cell_type": "code",
   "execution_count": 3,
   "metadata": {},
   "outputs": [],
   "source": [
    "def getForegroundMask(foreground):\n",
    "    mask_new = foreground.copy()[:,:,0]\n",
    "    mask_new[mask_new>0] = 1\n",
    "    return mask_new"
   ]
  },
  {
   "cell_type": "code",
   "execution_count": 4,
   "metadata": {},
   "outputs": [],
   "source": [
    "def compose(foreground, mask, background):\n",
    "    # Resize background to match the size of foreground\n",
    "    background = transform.resize(background, foreground.shape[:2])\n",
    "\n",
    "    # Subtract the foreground area from the background\n",
    "    background = background*(1 - mask.reshape(foreground.shape[0], foreground.shape[1], 1))\n",
    "\n",
    "    # Paste the foreground on the background\n",
    "    composed_image = background + foreground \n",
    "  \n",
    "    return composed_image"
   ]
  },
  {
   "cell_type": "code",
   "execution_count": 5,
   "metadata": {},
   "outputs": [],
   "source": [
    "def close_contour(contour):\n",
    "    if not np.array_equal(contour[0], contour[-1]):\n",
    "        contour = np.vstack((contour, contour[0]))\n",
    "    return contour"
   ]
  },
  {
   "cell_type": "code",
   "execution_count": 6,
   "metadata": {},
   "outputs": [],
   "source": [
    "def binary_mask_to_polygon(binary_mask, tolerance=0):\n",
    "    \"\"\"Converts a binary mask to COCO polygon representation\n",
    "    Args:\n",
    "        binary_mask: a 2D binary numpy array where '1's represent the object\n",
    "        tolerance: Maximum distance from original points of polygon to approximated\n",
    "            polygonal chain. If tolerance is 0, the original coordinate array is returned.\n",
    "    \"\"\"\n",
    "    polygons = []\n",
    "    # pad mask to close contours of shapes which start and end at an edge\n",
    "    padded_binary_mask = np.pad(binary_mask, pad_width=1, mode='constant', constant_values=0)\n",
    "    contours = measure.find_contours(padded_binary_mask, 0.5)\n",
    "    contours = np.subtract(contours, 1)\n",
    "    for contour in contours:\n",
    "        contour = close_contour(contour)\n",
    "        contour = measure.approximate_polygon(contour, tolerance)\n",
    "        if len(contour) < 3:\n",
    "            continue\n",
    "        contour = np.flip(contour, axis=1)\n",
    "        poly = Polygon(contour)\n",
    "        #poly = poly.simplify(1.0, preserve_topology=False)\n",
    "        polygons.append(poly)\n",
    "        #segmentation = contour.ravel().tolist()\n",
    "        # after padding and subtracting 1 we may get -0.5 points in our segmentation\n",
    "        #segmentation = [0 if i < 0 else i for i in segmentation]\n",
    "        #polygons.append(segmentation)\n",
    "\n",
    "    return polygons"
   ]
  },
  {
   "cell_type": "code",
   "execution_count": 7,
   "metadata": {},
   "outputs": [
    {
     "name": "stdout",
     "output_type": "stream",
     "text": [
      "loading annotations into memory...\n",
      "Done (t=0.85s)\n",
      "creating index...\n",
      "index created!\n"
     ]
    }
   ],
   "source": [
    "annFile = 'instances_val2017.json'\n",
    "coco=COCO(annFile)"
   ]
  },
  {
   "cell_type": "code",
   "execution_count": 42,
   "metadata": {},
   "outputs": [],
   "source": [
    "#category = 'cat'        # 1\n",
    "#category = 'dog'        # 2\n",
    "#category = 'horse'      # 3\n",
    "#category = 'sheep'      # 4\n",
    "#category = 'cow'        # 5\n",
    "#category = 'elephant'   # 6\n",
    "#category = 'bird'       # 7\n",
    "#category = 'bear'       # 8 \n",
    "#category = 'zebra'      # 9\n",
    "category = 'giraffe'    # 10"
   ]
  },
  {
   "cell_type": "code",
   "execution_count": 43,
   "metadata": {},
   "outputs": [
    {
     "name": "stdout",
     "output_type": "stream",
     "text": [
      "Number of images containing all filter classes: 101\n"
     ]
    }
   ],
   "source": [
    "# get all images containing given categories\n",
    "catIds = coco.getCatIds(catNms = [category]);\n",
    "imgIds = coco.getImgIds(catIds = catIds);\n",
    "print(\"Number of images containing all filter classes:\", len(imgIds))"
   ]
  },
  {
   "cell_type": "code",
   "execution_count": 44,
   "metadata": {},
   "outputs": [
    {
     "name": "stdout",
     "output_type": "stream",
     "text": [
      "55 442661.jpg\n",
      "91 537053.jpg\n",
      "76 223130.jpg\n",
      "12 433243.jpg\n",
      "60 259382.jpg\n"
     ]
    }
   ],
   "source": [
    "# Iteratively read foreground images from COCO\n",
    "count = 5\n",
    "\n",
    "index_list = list(range(0,len(imgIds)))\n",
    "\n",
    "while(count):   \n",
    "    random_index = random.choice(index_list)\n",
    "\n",
    "    img = coco.loadImgs(imgIds[random_index])[0]\n",
    "    I = io.imread(img['coco_url'])/255.0\n",
    "    \n",
    "    # Load annotations via COCO API\n",
    "    annIds = coco.getAnnIds(imgIds=img['id'], catIds=catIds, iscrowd=None)\n",
    "    anns = coco.loadAnns(annIds)\n",
    "    \n",
    "    # Select proper annotated instances with size and segmentation\n",
    "    if (len(anns[0]['segmentation']) > 1 or \n",
    "        len(anns) > 1 or\n",
    "        anns[0]['area'] < 15000 or \n",
    "        anns[0]['area'] > 80000):\n",
    "        continue\n",
    "        \n",
    "    print(random_index, img['file_name'][6:])  \n",
    "    \n",
    "    mask = np.zeros((img['height'],img['width']))\n",
    "    for n in range(len(anns)):\n",
    "        mask = np.maximum(coco.annToMask(anns[n]), mask)\n",
    "\n",
    "    mask = mask.reshape(I.shape[0], I.shape[1], 1)\n",
    "\n",
    "    foreground = mask*I    \n",
    "\n",
    "    \n",
    "    DIR = \"background/\"\n",
    "    imagePaths = [os.path.join(DIR, f) for f in os.listdir(DIR)]\n",
    "    if DIR + '.DS_Store' in imagePaths:\n",
    "        imagePaths.remove(DIR + '.DS_Store')\n",
    "    \n",
    "    for j in range(len(imagePaths)):   # Iteratively read background images\n",
    "        \n",
    "        background = io.imread(imagePaths[j],plugin='matplotlib')/255.0\n",
    "        background = np.array(background)\n",
    "        \n",
    "        if background.shape[2] != foreground.shape[2]:   # Should be with same dimension\n",
    "            continue\n",
    "        \n",
    "        foreground_new = foregroundAug(foreground)\n",
    "        \n",
    "\n",
    "        mask_new = getForegroundMask(foreground_new)        \n",
    "        #plt.imsave(\"data1/output/mask/{}_{}.png\".format(i, j), mask_new)\n",
    "        \n",
    "        polygon = binary_mask_to_polygon(mask_new)\n",
    "        if len(polygon) == 0:\n",
    "            continue\n",
    "        \n",
    "\n",
    "        composed_image = compose(foreground_new, mask_new, background)\n",
    "    \n",
    "    \n",
    "        composed_image = tf.clip_by_value(composed_image, 0.0, 1.0)\n",
    "        \n",
    "        plt.imsave(\"syn_img/{}/{}_{}_{}.jpg\".format(category, category, img['file_name'][6:12], j), \n",
    "                   composed_image.numpy())    \n",
    "        \n",
    "        \n",
    "\n",
    "        my_anno = list(polygon[0].exterior.coords)\n",
    "        \n",
    "        \n",
    "        points_list = []\n",
    "        for seg in range(len(my_anno)):\n",
    "            points_list.append(list(my_anno[seg]))\n",
    "            \n",
    "        data = {}\n",
    "        data['shapes'] = []\n",
    "        data['shapes'].append({\n",
    "            'label': category,\n",
    "            'points': points_list,\n",
    "            'shape_type': 'polygon'\n",
    "        })\n",
    "        data['imagePath'] = \"{}_{}_{}.jpg\".format(category, img['file_name'][6:12], j)\n",
    "        data['imageHeight'] = img['height']\n",
    "        data['imageWidth'] = img['width']\n",
    "\n",
    "        with open('syn_img/{}/{}_{}_{}.json'.format(category, category, \n",
    "                                                   img['file_name'][6:12], j), 'w') as outfile:\n",
    "            json.dump(data, outfile, indent=2)\n",
    "            \n",
    "    index_list.remove(random_index)\n",
    "    count = count - 1\n",
    "\n",
    "    "
   ]
  },
  {
   "cell_type": "code",
   "execution_count": null,
   "metadata": {},
   "outputs": [],
   "source": []
  }
 ],
 "metadata": {
  "kernelspec": {
   "display_name": "Python 3",
   "language": "python",
   "name": "python3"
  },
  "language_info": {
   "codemirror_mode": {
    "name": "ipython",
    "version": 3
   },
   "file_extension": ".py",
   "mimetype": "text/x-python",
   "name": "python",
   "nbconvert_exporter": "python",
   "pygments_lexer": "ipython3",
   "version": "3.8.3"
  }
 },
 "nbformat": 4,
 "nbformat_minor": 4
}
