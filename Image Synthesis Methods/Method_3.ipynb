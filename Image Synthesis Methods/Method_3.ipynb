{
 "cells": [
  {
   "cell_type": "markdown",
   "metadata": {},
   "source": [
    "# Method 3\n",
    "## Ready-made Foreground without Background"
   ]
  },
  {
   "cell_type": "code",
   "execution_count": 1,
   "metadata": {},
   "outputs": [],
   "source": [
    "import os\n",
    "import random\n",
    "import numpy as np\n",
    "from PIL import Image"
   ]
  },
  {
   "cell_type": "markdown",
   "metadata": {},
   "source": [
    "### Image Composition\n",
    "- Takes in a foreground image path and a background image path\n",
    "- Randomly rotates and scales the foreground\n",
    "- Pastes the foreground on the background\n",
    "- Creates a bit-mask image\n",
    "- Calculates a bounding box\n",
    "- Returns the image, mask, and bounding box"
   ]
  },
  {
   "cell_type": "code",
   "execution_count": 2,
   "metadata": {},
   "outputs": [],
   "source": [
    "def compose_images(foreground_path, background_path):\n",
    "    # Make sure the foreground path is valid and open the image\n",
    "    foreground = Image.open(foreground_path)\n",
    "\n",
    "    # Make sure the background path is valid and open the image\n",
    "    background = Image.open(background_path)\n",
    "    background = background.convert('RGBA')\n",
    "    \n",
    "    # Rotate the foreground\n",
    "    angle_degrees = random.randint(0, 45)\n",
    "    foreground = foreground.rotate(angle_degrees, resample=Image.BICUBIC, expand=True)\n",
    "    \n",
    "    # Scale the foreground\n",
    "    scale = random.random() * .5 + .5 # Pick something between .5 and 1\n",
    "    new_size = (int(foreground.size[0] * scale), int(foreground.size[1] * scale))\n",
    "    foreground = foreground.resize(new_size, resample=Image.BICUBIC)\n",
    "    \n",
    "    # Choose a random x,y position for the foreground\n",
    "    max_xy_position = (background.size[0] - foreground.size[0], background.size[1] - foreground.size[1])\n",
    "    assert max_xy_position[0] >= 0 and max_xy_position[1] >= 0, \\\n",
    "        'foreground {} is to big for the background {}'.format(foreground_path, background_path)\n",
    "    paste_position = (random.randint(0, max_xy_position[0]), random.randint(0, max_xy_position[1]))\n",
    "    \n",
    "    # Create a new foreground image as large as the background and paste it on top\n",
    "    new_foreground = Image.new('RGBA', background.size, color = (0, 0, 0, 0))\n",
    "    new_foreground.paste(foreground, paste_position)\n",
    "        \n",
    "    # Extract the alpha channel from the foreground and paste it into a new image the size of the background\n",
    "    alpha_mask = foreground.getchannel(3)\n",
    "    new_alpha_mask = Image.new('L', background.size, color=0)\n",
    "    new_alpha_mask.paste(alpha_mask, paste_position)\n",
    "    \n",
    "    composite = Image.composite(new_foreground, background, new_alpha_mask)\n",
    "    \n",
    "    # Grab the alpha pixels above a specified threshold\n",
    "    alpha_threshold = 200\n",
    "    mask_arr = np.array(np.greater(np.array(new_alpha_mask), alpha_threshold), dtype=np.uint8)\n",
    "    hard_mask = Image.fromarray(np.uint8(mask_arr) * 255, 'L')\n",
    "    \n",
    "    # Get the smallest & largest non-zero values in each dimension and calculate the bounding box\n",
    "    nz = np.nonzero(hard_mask)\n",
    "    bbox = [np.min(nz[0]), np.min(nz[1]), np.max(nz[0]), np.max(nz[1])] \n",
    "\n",
    "    return composite, hard_mask, bbox\n",
    "    "
   ]
  },
  {
   "cell_type": "markdown",
   "metadata": {},
   "source": [
    "### Image Generation\n",
    "- Get the image paths\n",
    "- Generate new images"
   ]
  },
  {
   "cell_type": "code",
   "execution_count": 11,
   "metadata": {},
   "outputs": [],
   "source": [
    "# Get lists of foreground and background image paths\n",
    "dataset_dir = 'data3'\n",
    "backgrounds_dir = os.path.join(dataset_dir, 'input/background/cloister')\n",
    "foregrounds_dir = os.path.join(dataset_dir, 'input/foreground')\n",
    "backgrounds = [os.path.join(backgrounds_dir, file_name) for file_name in os.listdir(backgrounds_dir)]\n",
    "foregrounds = [os.path.join(foregrounds_dir, file_name) for file_name in os.listdir(foregrounds_dir)]\n",
    "\n",
    "# Output directory\n",
    "output_dir = os.path.join(dataset_dir, 'output')\n",
    "\n",
    "\n",
    "# Generate new images\n",
    "for i in range(5):\n",
    "    foreground_path = random.choice(foregrounds)\n",
    "    background_path = random.choice(backgrounds)\n",
    "    if (background_path == os.path.join(backgrounds_dir,'.DS_Store') or\n",
    "        foreground_path == os.path.join(foregrounds_dir,'.DS_Store')):\n",
    "        continue\n",
    "    composite, mask, bbox = compose_images(foreground_path, background_path)\n",
    "    \n",
    "    composite_path = os.path.join(output_dir, 'image/{}.png'.format(i))\n",
    "    composite.save(composite_path)\n",
    "    \n",
    "    mask_path = os.path.join(output_dir, 'mask/{}.png'.format(i))\n",
    "    mask.save(mask_path)\n",
    "    "
   ]
  },
  {
   "cell_type": "markdown",
   "metadata": {},
   "source": [
    "#### Code Reference:\n",
    "https://github.com/akTwelve/tutorials/blob/master/image_composition/BasicImageComposition.ipynb"
   ]
  }
 ],
 "metadata": {
  "kernelspec": {
   "display_name": "Python 3",
   "language": "python",
   "name": "python3"
  },
  "language_info": {
   "codemirror_mode": {
    "name": "ipython",
    "version": 3
   },
   "file_extension": ".py",
   "mimetype": "text/x-python",
   "name": "python",
   "nbconvert_exporter": "python",
   "pygments_lexer": "ipython3",
   "version": "3.8.3"
  }
 },
 "nbformat": 4,
 "nbformat_minor": 4
}
