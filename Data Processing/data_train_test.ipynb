{
 "cells": [
  {
   "cell_type": "markdown",
   "metadata": {},
   "source": [
    "# 10 Categories for Training and Testing"
   ]
  },
  {
   "cell_type": "code",
   "execution_count": 3,
   "metadata": {},
   "outputs": [],
   "source": [
    "import os\n",
    "import random\n",
    "import shutil"
   ]
  },
  {
   "cell_type": "markdown",
   "metadata": {},
   "source": [
    "### For baseline (real) data"
   ]
  },
  {
   "cell_type": "code",
   "execution_count": 6,
   "metadata": {},
   "outputs": [],
   "source": [
    "trainDir = 'baseline/train/'\n",
    "testDir = 'baseline/test/'"
   ]
  },
  {
   "cell_type": "code",
   "execution_count": 7,
   "metadata": {},
   "outputs": [],
   "source": [
    "Dirs = ['cat/', 'dog/', 'horse/', 'sheep/', 'cow/', \n",
    "        'elephant/', 'bird/', 'bear/', 'zebra/', 'giraffe/']\n",
    "realDirs = ['real_img/'+elem for elem in Dirs]"
   ]
  },
  {
   "cell_type": "code",
   "execution_count": 4,
   "metadata": {},
   "outputs": [
    {
     "name": "stdout",
     "output_type": "stream",
     "text": [
      "['cat_119233.jpg', 'cat_401991.jpg', 'cat_260925.jpg', 'cat_399560.jpg', 'cat_177015.jpg']\n",
      "['cat_119233.json', 'cat_401991.json', 'cat_260925.json', 'cat_399560.json', 'cat_177015.json']\n",
      "79 79\n",
      "74 74\n",
      "['dog_486479.jpg', 'dog_366611.jpg', 'dog_311190.jpg', 'dog_517832.jpg', 'dog_072813.jpg']\n",
      "['dog_486479.json', 'dog_366611.json', 'dog_311190.json', 'dog_517832.json', 'dog_072813.json']\n",
      "55 55\n",
      "50 50\n",
      "['horse_029187.jpg', 'horse_319721.jpg', 'horse_140270.jpg', 'horse_382088.jpg', 'horse_439715.jpg']\n",
      "['horse_029187.json', 'horse_319721.json', 'horse_140270.json', 'horse_382088.json', 'horse_439715.json']\n",
      "32 32\n",
      "27 27\n",
      "['sheep_406997.jpg', 'sheep_525155.jpg', 'sheep_176606.jpg', 'sheep_046804.jpg', 'sheep_572408.jpg']\n",
      "['sheep_406997.json', 'sheep_525155.json', 'sheep_176606.json', 'sheep_046804.json', 'sheep_572408.json']\n",
      "6 6\n",
      "1 1\n",
      "['cow_231580.jpg', 'cow_233567.jpg', 'cow_090062.jpg', 'cow_222863.jpg', 'cow_399764.jpg']\n",
      "['cow_231580.json', 'cow_233567.json', 'cow_090062.json', 'cow_222863.json', 'cow_399764.json']\n",
      "12 12\n",
      "7 7\n",
      "['elephant_166563.jpg', 'elephant_103723.jpg', 'elephant_415748.jpg', 'elephant_053624.jpg', 'elephant_166664.jpg']\n",
      "['elephant_166563.json', 'elephant_103723.json', 'elephant_415748.json', 'elephant_053624.json', 'elephant_166664.json']\n",
      "13 13\n",
      "8 8\n",
      "['bird_264335.jpg', 'bird_100489.jpg', 'bird_335081.jpg', 'bird_167902.jpg', 'bird_374551.jpg']\n",
      "['bird_264335.json', 'bird_100489.json', 'bird_335081.json', 'bird_167902.json', 'bird_374551.json']\n",
      "18 18\n",
      "13 13\n",
      "['bear_186422.jpg', 'bear_042296.jpg', 'bear_205776.jpg', 'bear_390826.jpg', 'bear_572517.jpg']\n",
      "['bear_186422.json', 'bear_042296.json', 'bear_205776.json', 'bear_390826.json', 'bear_572517.json']\n",
      "15 15\n",
      "10 10\n",
      "['zebra_552902.jpg', 'zebra_491613.jpg', 'zebra_163290.jpg', 'zebra_433243.jpg', 'zebra_350488.jpg']\n",
      "['zebra_552902.json', 'zebra_491613.json', 'zebra_163290.json', 'zebra_433243.json', 'zebra_350488.json']\n",
      "8 8\n",
      "3 3\n",
      "['giraffe_134689.jpg', 'giraffe_234526.jpg', 'giraffe_212895.jpg', 'giraffe_338532.jpg', 'giraffe_475150.jpg']\n",
      "['giraffe_134689.json', 'giraffe_234526.json', 'giraffe_212895.json', 'giraffe_338532.json', 'giraffe_475150.json']\n",
      "28 28\n",
      "23 23\n"
     ]
    }
   ],
   "source": [
    "for i in range(len(realDirs)):\n",
    "    fileDir = realDirs[i]\n",
    "    pathDir = os.listdir(fileDir)\n",
    "    \n",
    "    imgFile = [elem for elem in pathDir if elem[-3:] == 'jpg']\n",
    "    jsonFile = [elem for elem in pathDir if elem[-4:] == 'json']\n",
    "\n",
    "    test_img = random.sample(imgFile, 5)\n",
    "    print(test_img)\n",
    "\n",
    "    test_json = [elem[:-3] for elem in test_img]\n",
    "    test_json = [elem+'json' for elem in test_json]\n",
    "    print(test_json)\n",
    "\n",
    "    print(len(imgFile), len(jsonFile))\n",
    "\n",
    "    train_img = list(set(imgFile) - set(test_img))\n",
    "    train_json = list(set(jsonFile) - set(test_json))\n",
    "    print(len(train_img), len(train_json))\n",
    "\n",
    "    for img in test_img:\n",
    "        shutil.copyfile(fileDir+img,testDir+img)\n",
    "\n",
    "    for json in test_json:\n",
    "        shutil.copyfile(fileDir+json,testDir+json)\n",
    "\n",
    "    for img in train_img:\n",
    "        shutil.copyfile(fileDir+img,trainDir+img)\n",
    "\n",
    "    for json in train_json:\n",
    "        shutil.copyfile(fileDir+json,trainDir+json)"
   ]
  },
  {
   "cell_type": "code",
   "execution_count": null,
   "metadata": {},
   "outputs": [],
   "source": []
  },
  {
   "cell_type": "markdown",
   "metadata": {},
   "source": [
    "### For mixed (real and synthetic) data"
   ]
  },
  {
   "cell_type": "code",
   "execution_count": 5,
   "metadata": {},
   "outputs": [],
   "source": [
    "new_trainDir = 'synthetic/train/'\n",
    "new_testDir = 'synthetic/test/'"
   ]
  },
  {
   "cell_type": "code",
   "execution_count": 6,
   "metadata": {},
   "outputs": [],
   "source": [
    "train_data = os.listdir(trainDir)\n",
    "test_data = os.listdir(testDir)\n",
    "\n",
    "for file in train_data:\n",
    "    shutil.copyfile(trainDir+file,new_trainDir+file)\n",
    "    \n",
    "for file in test_data:\n",
    "    shutil.copyfile(testDir+file,new_testDir+file)"
   ]
  },
  {
   "cell_type": "code",
   "execution_count": 8,
   "metadata": {},
   "outputs": [],
   "source": [
    "synDirs = ['syn_img/'+elem for elem in Dirs]\n",
    "\n",
    "for i in range(len(synDirs)):\n",
    "    fileDir = synDirs[i]\n",
    "    pathDir = os.listdir(fileDir)\n",
    "\n",
    "    for file in pathDir:\n",
    "        shutil.copyfile(fileDir+file,new_trainDir+file)"
   ]
  },
  {
   "cell_type": "code",
   "execution_count": null,
   "metadata": {},
   "outputs": [],
   "source": []
  }
 ],
 "metadata": {
  "kernelspec": {
   "display_name": "Python 3",
   "language": "python",
   "name": "python3"
  },
  "language_info": {
   "codemirror_mode": {
    "name": "ipython",
    "version": 3
   },
   "file_extension": ".py",
   "mimetype": "text/x-python",
   "name": "python",
   "nbconvert_exporter": "python",
   "pygments_lexer": "ipython3",
   "version": "3.8.3"
  }
 },
 "nbformat": 4,
 "nbformat_minor": 4
}
