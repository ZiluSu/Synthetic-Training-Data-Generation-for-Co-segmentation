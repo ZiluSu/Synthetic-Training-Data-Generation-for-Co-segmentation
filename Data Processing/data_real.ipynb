{
 "cells": [
  {
   "cell_type": "markdown",
   "metadata": {},
   "source": [
    "## COCO Original Data"
   ]
  },
  {
   "cell_type": "code",
   "execution_count": 1,
   "metadata": {},
   "outputs": [],
   "source": [
    "import os\n",
    "import numpy as np\n",
    "import skimage.io as io\n",
    "import skimage.transform as transform\n",
    "import matplotlib.pyplot as plt\n",
    "from matplotlib.patches import Rectangle\n",
    "from pycocotools.coco import COCO\n",
    "from PIL import Image\n",
    "import json\n",
    "%matplotlib inline"
   ]
  },
  {
   "cell_type": "code",
   "execution_count": 2,
   "metadata": {},
   "outputs": [
    {
     "name": "stdout",
     "output_type": "stream",
     "text": [
      "loading annotations into memory...\n",
      "Done (t=0.66s)\n",
      "creating index...\n",
      "index created!\n"
     ]
    }
   ],
   "source": [
    "annFile = 'instances_val2017.json'\n",
    "\n",
    "# initialize COCO api for instance annotations\n",
    "coco=COCO(annFile)"
   ]
  },
  {
   "cell_type": "code",
   "execution_count": 3,
   "metadata": {},
   "outputs": [],
   "source": [
    "#category = 'cat'        # 1\n",
    "#category = 'dog'        # 2\n",
    "#category = 'horse'      # 3\n",
    "#category = 'sheep'      # 4\n",
    "#category = 'cow'        # 5\n",
    "#category = 'elephant'   # 6\n",
    "#category = 'bird'       # 7\n",
    "#category = 'bear'       # 8 \n",
    "#category = 'zebra'      # 9\n",
    "category = 'giraffe'    # 10"
   ]
  },
  {
   "cell_type": "code",
   "execution_count": 4,
   "metadata": {},
   "outputs": [
    {
     "name": "stdout",
     "output_type": "stream",
     "text": [
      "Number of images containing all filter classes: 184\n"
     ]
    }
   ],
   "source": [
    "# get all images containing given categories\n",
    "catIds = coco.getCatIds(catNms = [category]);\n",
    "imgIds = coco.getImgIds(catIds = catIds);\n",
    "print(\"Number of images containing all filter classes:\", len(imgIds))"
   ]
  },
  {
   "cell_type": "code",
   "execution_count": 5,
   "metadata": {
    "scrolled": true
   },
   "outputs": [
    {
     "name": "stdout",
     "output_type": "stream",
     "text": [
      "0 416256.jpg\n",
      "2 223747.jpg\n",
      "3 245764.jpg\n",
      "4 458255.jpg\n",
      "5 047121.jpg\n",
      "7 312340.jpg\n",
      "8 119828.jpg\n",
      "9 098839.jpg\n",
      "10 222235.jpg\n",
      "11 290843.jpg\n",
      "12 533536.jpg\n",
      "13 545826.jpg\n",
      "26 401991.jpg\n",
      "27 261706.jpg\n",
      "30 107087.jpg\n",
      "33 078420.jpg\n",
      "35 519764.jpg\n",
      "36 327769.jpg\n",
      "37 116825.jpg\n",
      "38 078426.jpg\n",
      "39 424545.jpg\n",
      "40 211042.jpg\n",
      "41 181859.jpg\n",
      "43 435299.jpg\n",
      "44 329319.jpg\n",
      "46 157807.jpg\n",
      "47 316015.jpg\n",
      "50 010363.jpg\n",
      "53 094336.jpg\n",
      "65 155291.jpg\n",
      "66 112798.jpg\n",
      "67 291490.jpg\n",
      "69 084650.jpg\n",
      "70 115885.jpg\n",
      "71 241326.jpg\n",
      "83 399560.jpg\n",
      "84 565962.jpg\n",
      "85 202445.jpg\n",
      "89 108244.jpg\n",
      "92 227044.jpg\n",
      "96 491757.jpg\n",
      "99 264441.jpg\n",
      "102 540928.jpg\n",
      "105 501523.jpg\n",
      "106 080666.jpg\n",
      "107 077595.jpg\n",
      "113 554291.jpg\n",
      "117 260925.jpg\n",
      "121 209747.jpg\n",
      "122 163155.jpg\n",
      "123 432468.jpg\n",
      "124 520531.jpg\n",
      "126 574810.jpg\n",
      "132 403817.jpg\n",
      "133 574315.jpg\n",
      "134 022892.jpg\n",
      "138 568690.jpg\n",
      "139 177015.jpg\n",
      "143 084362.jpg\n",
      "144 018833.jpg\n",
      "146 106389.jpg\n",
      "149 386457.jpg\n",
      "151 407960.jpg\n",
      "152 061333.jpg\n",
      "156 443303.jpg\n",
      "158 425390.jpg\n",
      "159 304560.jpg\n",
      "160 186296.jpg\n",
      "163 525247.jpg\n",
      "164 119233.jpg\n",
      "165 213445.jpg\n",
      "169 515025.jpg\n",
      "170 025560.jpg\n",
      "172 255965.jpg\n",
      "173 572388.jpg\n",
      "175 375278.jpg\n",
      "178 198641.jpg\n",
      "182 558073.jpg\n",
      "183 109055.jpg\n"
     ]
    }
   ],
   "source": [
    "# real images\n",
    "for i in range(len(imgIds)):\n",
    "    img = coco.loadImgs(imgIds[i])[0]\n",
    "    I = io.imread(img['coco_url'])/255.0\n",
    "\n",
    "    annIds = coco.getAnnIds(imgIds=img['id'], catIds=catIds, iscrowd=None)\n",
    "    anns = coco.loadAnns(annIds)\n",
    "\n",
    "    if (len(anns[0]['segmentation']) > 1 or \n",
    "        len(anns) > 1 or\n",
    "        anns[0]['area'] < 15000 or \n",
    "        anns[0]['area'] > 80000):\n",
    "        continue\n",
    "    \n",
    "    print(i, img['file_name'][6:])    \n",
    "    plt.imsave('real_img/{}/{}_{}.jpg'.format(category, category, img['file_name'][6:12]), I)\n",
    "    \n",
    "    my_anno = anns[0]['segmentation'][0]\n",
    "    my_anno = list(zip(my_anno[::2], my_anno[1::2]))\n",
    "    \n",
    "    points_list = []\n",
    "    for j in range(len(my_anno)):\n",
    "        points_list.append(list(my_anno[j]))\n",
    "\n",
    "        \n",
    "    data = {}\n",
    "    data['shapes'] = []\n",
    "    data['shapes'].append({\n",
    "        'label': category,\n",
    "        'points': points_list,\n",
    "        'shape_type': 'polygon'\n",
    "    })\n",
    "    data['imagePath'] = img['file_name'][6:]\n",
    "    data['imageHeight'] = img['height']\n",
    "    data['imageWidth'] = img['width']\n",
    "\n",
    "    with open('real_img/{}/{}_{}.json'.format(category, category, \n",
    "                                          img['file_name'][6:12]), 'w') as outfile:\n",
    "        json.dump(data, outfile, indent=2)"
   ]
  },
  {
   "cell_type": "code",
   "execution_count": null,
   "metadata": {},
   "outputs": [],
   "source": []
  }
 ],
 "metadata": {
  "kernelspec": {
   "display_name": "Python 3",
   "language": "python",
   "name": "python3"
  },
  "language_info": {
   "codemirror_mode": {
    "name": "ipython",
    "version": 3
   },
   "file_extension": ".py",
   "mimetype": "text/x-python",
   "name": "python",
   "nbconvert_exporter": "python",
   "pygments_lexer": "ipython3",
   "version": "3.8.3"
  }
 },
 "nbformat": 4,
 "nbformat_minor": 4
}
